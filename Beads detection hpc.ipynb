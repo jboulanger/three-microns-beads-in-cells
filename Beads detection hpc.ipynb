{
 "cells": [
  {
   "cell_type": "markdown",
   "metadata": {},
   "source": [
    "# Bead detection and quantification in cells on a HPC\n",
    "\n",
    "Detect $3\\mu m$ beads inside cells and measure intensity of the signal on the \n",
    "beads in all channels. The bead detection is done using normalized cross \n",
    "correlation and the cell segmentation is achieved using cellpose.\n",
    "\n",
    "Process all images from the folder."
   ]
  },
  {
   "cell_type": "code",
   "execution_count": 1,
   "metadata": {},
   "outputs": [
    {
     "name": "stdout",
     "output_type": "stream",
     "text": [
      "/lmb/home/jeromeb/code/three-microns-beads-in-cells\n"
     ]
    }
   ],
   "source": [
    "cd ~/code/three-microns-beads-in-cells/"
   ]
  },
  {
   "cell_type": "code",
   "execution_count": 2,
   "metadata": {},
   "outputs": [],
   "source": [
    "import beadfinder"
   ]
  },
  {
   "cell_type": "code",
   "execution_count": 3,
   "metadata": {},
   "outputs": [
    {
     "name": "stdout",
     "output_type": "stream",
     "text": [
      "Source folder accessible? True\n",
      "Destination folder accessible? True\n",
      "Discovered 420 positions in 11 files.\n"
     ]
    }
   ],
   "source": [
    "bf = beadfinder.BeadFinder('config1.yml')"
   ]
  },
  {
   "cell_type": "code",
   "execution_count": 4,
   "metadata": {},
   "outputs": [
    {
     "name": "stderr",
     "output_type": "stream",
     "text": [
      "/lmb/home/jeromeb/miniconda3/envs/imaging/lib/python3.9/site-packages/distributed/node.py:182: UserWarning: Port 8787 is already in use.\n",
      "Perhaps you already have a cluster running?\n",
      "Hosting the HTTP server on port 36427 instead\n",
      "  warnings.warn(\n"
     ]
    }
   ],
   "source": [
    "from dask_jobqueue import SLURMCluster\n",
    "from dask.distributed import Client\n",
    "cluster = SLURMCluster(\n",
    "                queue=\"cpu\",\n",
    "                cores=112,\n",
    "                processes=1,\n",
    "                memory=\"700GB\",\n",
    "                local_directory=\"$SLURM_SCRATCH_DIR\",\n",
    "                shebang=\"#!/usr/bin/env tcsh\",\n",
    "                walltime=\"10:00:00\",\n",
    "                death_timeout=150,\n",
    "            )\n",
    "cluster.adapt(maximum_jobs=10)\n",
    "client = Client(cluster)"
   ]
  },
  {
   "cell_type": "code",
   "execution_count": null,
   "metadata": {},
   "outputs": [],
   "source": [
    "client"
   ]
  },
  {
   "cell_type": "code",
   "execution_count": 9,
   "metadata": {},
   "outputs": [],
   "source": [
    "bf.process_parallel_dataset()"
   ]
  }
 ],
 "metadata": {
  "kernelspec": {
   "display_name": "imaging",
   "language": "python",
   "name": "imaging"
  },
  "language_info": {
   "codemirror_mode": {
    "name": "ipython",
    "version": 3
   },
   "file_extension": ".py",
   "mimetype": "text/x-python",
   "name": "python",
   "nbconvert_exporter": "python",
   "pygments_lexer": "ipython3",
   "version": "3.9.16"
  }
 },
 "nbformat": 4,
 "nbformat_minor": 2
}
