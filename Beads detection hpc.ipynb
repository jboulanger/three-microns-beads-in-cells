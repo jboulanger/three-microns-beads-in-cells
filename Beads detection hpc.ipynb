{
 "cells": [
  {
   "cell_type": "markdown",
   "metadata": {},
   "source": [
    "# Bead detection and quantification in cells on a HPC\n",
    "\n",
    "Detect $3\\mu m$ beads inside cells and measure intensity of the signal on the \n",
    "beads in all channels. The bead detection is done using normalized cross \n",
    "correlation and the cell segmentation is achieved using cellpose.\n",
    "\n"
   ]
  },
  {
   "cell_type": "code",
   "execution_count": 1,
   "metadata": {},
   "outputs": [],
   "source": [
    "%load_ext autoreload\n",
    "%autoreload 2"
   ]
  },
  {
   "cell_type": "code",
   "execution_count": 2,
   "metadata": {},
   "outputs": [],
   "source": [
    "from dask_jobqueue import SLURMCluster\n",
    "from dask.distributed import Client\n",
    "cluster = SLURMCluster(\n",
    "                queue=\"cpu\",\n",
    "                cores=112,\n",
    "                processes=1,\n",
    "                memory=\"700GB\",\n",
    "                local_directory=\"$SLURM_SCRATCH_DIR\",\n",
    "                shebang=\"#!/usr/bin/env tcsh\",               \n",
    "                walltime=\"72:00:00\",                \n",
    "                death_timeout=150,\n",
    "            )\n",
    "cluster.adapt(maximum_jobs=10)\n",
    "client = Client(cluster)"
   ]
  },
  {
   "cell_type": "code",
   "execution_count": null,
   "metadata": {},
   "outputs": [],
   "source": []
  },
  {
   "cell_type": "code",
   "execution_count": 3,
   "metadata": {},
   "outputs": [
    {
     "name": "stdout",
     "output_type": "stream",
     "text": [
      "#!/usr/bin/env tcsh\n",
      "\n",
      "#SBATCH -J dask-worker\n",
      "#SBATCH -p cpu\n",
      "#SBATCH -n 1\n",
      "#SBATCH --cpus-per-task=28\n",
      "#SBATCH --mem=140G\n",
      "#SBATCH -t 72:00:00\n",
      "\n",
      "/lmb/home/jeromeb/miniconda3/envs/imaging/bin/python -m distributed.cli.dask_worker tcp://10.1.0.29:32949 --nthreads 28 --memory-limit 139.70GiB --name dummy-name --nanny --death-timeout 150 --local-directory $SLURM_SCRATCH_DIR\n",
      "\n"
     ]
    }
   ],
   "source": [
    "print(cluster.job_script())"
   ]
  },
  {
   "cell_type": "code",
   "execution_count": 4,
   "metadata": {},
   "outputs": [
    {
     "data": {
      "text/html": [
       "<div>\n",
       "    <div style=\"width: 24px; height: 24px; background-color: #e1e1e1; border: 3px solid #9D9D9D; border-radius: 5px; position: absolute;\"> </div>\n",
       "    <div style=\"margin-left: 48px;\">\n",
       "        <h3 style=\"margin-bottom: 0px;\">Client</h3>\n",
       "        <p style=\"color: #9D9D9D; margin-bottom: 0px;\">Client-5b1051b6-d591-11ee-a8bb-b8cef62ae75e</p>\n",
       "        <table style=\"width: 100%; text-align: left;\">\n",
       "\n",
       "        <tr>\n",
       "        \n",
       "            <td style=\"text-align: left;\"><strong>Connection method:</strong> Cluster object</td>\n",
       "            <td style=\"text-align: left;\"><strong>Cluster type:</strong> dask_jobqueue.SLURMCluster</td>\n",
       "        \n",
       "        </tr>\n",
       "\n",
       "        \n",
       "            <tr>\n",
       "                <td style=\"text-align: left;\">\n",
       "                    <strong>Dashboard: </strong> <a href=\"http://10.1.0.29:8787/status\" target=\"_blank\">http://10.1.0.29:8787/status</a>\n",
       "                </td>\n",
       "                <td style=\"text-align: left;\"></td>\n",
       "            </tr>\n",
       "        \n",
       "\n",
       "        </table>\n",
       "\n",
       "        \n",
       "\n",
       "        \n",
       "            <details>\n",
       "            <summary style=\"margin-bottom: 20px;\"><h3 style=\"display: inline;\">Cluster Info</h3></summary>\n",
       "            <div class=\"jp-RenderedHTMLCommon jp-RenderedHTML jp-mod-trusted jp-OutputArea-output\">\n",
       "    <div style=\"width: 24px; height: 24px; background-color: #e1e1e1; border: 3px solid #9D9D9D; border-radius: 5px; position: absolute;\">\n",
       "    </div>\n",
       "    <div style=\"margin-left: 48px;\">\n",
       "        <h3 style=\"margin-bottom: 0px; margin-top: 0px;\">SLURMCluster</h3>\n",
       "        <p style=\"color: #9D9D9D; margin-bottom: 0px;\">88f4bb09</p>\n",
       "        <table style=\"width: 100%; text-align: left;\">\n",
       "            <tr>\n",
       "                <td style=\"text-align: left;\">\n",
       "                    <strong>Dashboard:</strong> <a href=\"http://10.1.0.29:8787/status\" target=\"_blank\">http://10.1.0.29:8787/status</a>\n",
       "                </td>\n",
       "                <td style=\"text-align: left;\">\n",
       "                    <strong>Workers:</strong> 0\n",
       "                </td>\n",
       "            </tr>\n",
       "            <tr>\n",
       "                <td style=\"text-align: left;\">\n",
       "                    <strong>Total threads:</strong> 0\n",
       "                </td>\n",
       "                <td style=\"text-align: left;\">\n",
       "                    <strong>Total memory:</strong> 0 B\n",
       "                </td>\n",
       "            </tr>\n",
       "            \n",
       "        </table>\n",
       "\n",
       "        <details>\n",
       "            <summary style=\"margin-bottom: 20px;\">\n",
       "                <h3 style=\"display: inline;\">Scheduler Info</h3>\n",
       "            </summary>\n",
       "\n",
       "            <div style=\"\">\n",
       "    <div>\n",
       "        <div style=\"width: 24px; height: 24px; background-color: #FFF7E5; border: 3px solid #FF6132; border-radius: 5px; position: absolute;\"> </div>\n",
       "        <div style=\"margin-left: 48px;\">\n",
       "            <h3 style=\"margin-bottom: 0px;\">Scheduler</h3>\n",
       "            <p style=\"color: #9D9D9D; margin-bottom: 0px;\">Scheduler-7c2b29ea-fe73-4b1a-904e-46875bff731a</p>\n",
       "            <table style=\"width: 100%; text-align: left;\">\n",
       "                <tr>\n",
       "                    <td style=\"text-align: left;\">\n",
       "                        <strong>Comm:</strong> tcp://10.1.0.29:32949\n",
       "                    </td>\n",
       "                    <td style=\"text-align: left;\">\n",
       "                        <strong>Workers:</strong> 0\n",
       "                    </td>\n",
       "                </tr>\n",
       "                <tr>\n",
       "                    <td style=\"text-align: left;\">\n",
       "                        <strong>Dashboard:</strong> <a href=\"http://10.1.0.29:8787/status\" target=\"_blank\">http://10.1.0.29:8787/status</a>\n",
       "                    </td>\n",
       "                    <td style=\"text-align: left;\">\n",
       "                        <strong>Total threads:</strong> 0\n",
       "                    </td>\n",
       "                </tr>\n",
       "                <tr>\n",
       "                    <td style=\"text-align: left;\">\n",
       "                        <strong>Started:</strong> Just now\n",
       "                    </td>\n",
       "                    <td style=\"text-align: left;\">\n",
       "                        <strong>Total memory:</strong> 0 B\n",
       "                    </td>\n",
       "                </tr>\n",
       "            </table>\n",
       "        </div>\n",
       "    </div>\n",
       "\n",
       "    <details style=\"margin-left: 48px;\">\n",
       "        <summary style=\"margin-bottom: 20px;\">\n",
       "            <h3 style=\"display: inline;\">Workers</h3>\n",
       "        </summary>\n",
       "\n",
       "        \n",
       "\n",
       "    </details>\n",
       "</div>\n",
       "\n",
       "        </details>\n",
       "    </div>\n",
       "</div>\n",
       "            </details>\n",
       "        \n",
       "\n",
       "    </div>\n",
       "</div>"
      ],
      "text/plain": [
       "<Client: 'tcp://10.1.0.29:32949' processes=0 threads=0, memory=0 B>"
      ]
     },
     "execution_count": 4,
     "metadata": {},
     "output_type": "execute_result"
    }
   ],
   "source": [
    "client"
   ]
  },
  {
   "cell_type": "code",
   "execution_count": 5,
   "metadata": {},
   "outputs": [],
   "source": [
    "import beadfinder"
   ]
  },
  {
   "cell_type": "code",
   "execution_count": 6,
   "metadata": {},
   "outputs": [
    {
     "name": "stdout",
     "output_type": "stream",
     "text": [
      "Source folder accessible? True\n",
      "Destination folder accessible? True\n",
      "Slide1_B3.nd2\n",
      "Slide1_A3.nd2\n",
      "Slide1_A2.nd2\n",
      "Slide1_A4.nd2\n",
      "Slide1_A1.nd2\n",
      "Discovered 245 positions in 5 files.\n"
     ]
    }
   ],
   "source": [
    "bf = beadfinder.FolderProcessor('config1.yml')"
   ]
  },
  {
   "cell_type": "code",
   "execution_count": 7,
   "metadata": {},
   "outputs": [],
   "source": [
    "#bf.filelist.to_csv(bf.destination/'filelist.csv')"
   ]
  },
  {
   "cell_type": "code",
   "execution_count": 8,
   "metadata": {},
   "outputs": [
    {
     "ename": "KeyboardInterrupt",
     "evalue": "",
     "output_type": "error",
     "traceback": [
      "\u001b[0;31m---------------------------------------------------------------------------\u001b[0m",
      "\u001b[0;31mKeyboardInterrupt\u001b[0m                         Traceback (most recent call last)",
      "Cell \u001b[0;32mIn[8], line 1\u001b[0m\n\u001b[0;32m----> 1\u001b[0m \u001b[43mbf\u001b[49m\u001b[38;5;241;43m.\u001b[39;49m\u001b[43mprocess_parallel_dataset\u001b[49m\u001b[43m(\u001b[49m\u001b[43m)\u001b[49m\n",
      "File \u001b[0;32m~/code/three-microns-beads-in-cells/beadfinder.py:703\u001b[0m, in \u001b[0;36mFolderProcessor.process_parallel_dataset\u001b[0;34m(self)\u001b[0m\n\u001b[1;32m    700\u001b[0m tsk \u001b[38;5;241m=\u001b[39m [dask\u001b[38;5;241m.\u001b[39mdelayed(\u001b[38;5;28mself\u001b[39m\u001b[38;5;241m.\u001b[39mprocess_item)(row) \u001b[38;5;28;01mfor\u001b[39;00m row \u001b[38;5;129;01min\u001b[39;00m \u001b[38;5;28mself\u001b[39m\u001b[38;5;241m.\u001b[39mfilelist\u001b[38;5;241m.\u001b[39miloc]\n\u001b[1;32m    702\u001b[0m \u001b[38;5;66;03m# run the tasks\u001b[39;00m\n\u001b[0;32m--> 703\u001b[0m results \u001b[38;5;241m=\u001b[39m \u001b[43mdask\u001b[49m\u001b[38;5;241;43m.\u001b[39;49m\u001b[43mcompute\u001b[49m\u001b[43m(\u001b[49m\u001b[43mtsk\u001b[49m\u001b[43m)\u001b[49m\n\u001b[1;32m    705\u001b[0m \u001b[38;5;66;03m# concatenate all results in 1 data frame\u001b[39;00m\n\u001b[1;32m    706\u001b[0m cells \u001b[38;5;241m=\u001b[39m pd\u001b[38;5;241m.\u001b[39mconcat([c \u001b[38;5;28;01mfor\u001b[39;00m c, _ \u001b[38;5;129;01min\u001b[39;00m results[\u001b[38;5;241m0\u001b[39m]])\n",
      "File \u001b[0;32m~/miniconda3/envs/imaging/lib/python3.9/site-packages/dask/base.py:599\u001b[0m, in \u001b[0;36mcompute\u001b[0;34m(traverse, optimize_graph, scheduler, get, *args, **kwargs)\u001b[0m\n\u001b[1;32m    596\u001b[0m     keys\u001b[38;5;241m.\u001b[39mappend(x\u001b[38;5;241m.\u001b[39m__dask_keys__())\n\u001b[1;32m    597\u001b[0m     postcomputes\u001b[38;5;241m.\u001b[39mappend(x\u001b[38;5;241m.\u001b[39m__dask_postcompute__())\n\u001b[0;32m--> 599\u001b[0m results \u001b[38;5;241m=\u001b[39m \u001b[43mschedule\u001b[49m\u001b[43m(\u001b[49m\u001b[43mdsk\u001b[49m\u001b[43m,\u001b[49m\u001b[43m \u001b[49m\u001b[43mkeys\u001b[49m\u001b[43m,\u001b[49m\u001b[43m \u001b[49m\u001b[38;5;241;43m*\u001b[39;49m\u001b[38;5;241;43m*\u001b[39;49m\u001b[43mkwargs\u001b[49m\u001b[43m)\u001b[49m\n\u001b[1;32m    600\u001b[0m \u001b[38;5;28;01mreturn\u001b[39;00m repack([f(r, \u001b[38;5;241m*\u001b[39ma) \u001b[38;5;28;01mfor\u001b[39;00m r, (f, a) \u001b[38;5;129;01min\u001b[39;00m \u001b[38;5;28mzip\u001b[39m(results, postcomputes)])\n",
      "File \u001b[0;32m~/miniconda3/envs/imaging/lib/python3.9/site-packages/distributed/client.py:3168\u001b[0m, in \u001b[0;36mClient.get\u001b[0;34m(self, dsk, keys, workers, allow_other_workers, resources, sync, asynchronous, direct, retries, priority, fifo_timeout, actors, **kwargs)\u001b[0m\n\u001b[1;32m   3166\u001b[0m         should_rejoin \u001b[38;5;241m=\u001b[39m \u001b[38;5;28;01mFalse\u001b[39;00m\n\u001b[1;32m   3167\u001b[0m \u001b[38;5;28;01mtry\u001b[39;00m:\n\u001b[0;32m-> 3168\u001b[0m     results \u001b[38;5;241m=\u001b[39m \u001b[38;5;28;43mself\u001b[39;49m\u001b[38;5;241;43m.\u001b[39;49m\u001b[43mgather\u001b[49m\u001b[43m(\u001b[49m\u001b[43mpacked\u001b[49m\u001b[43m,\u001b[49m\u001b[43m \u001b[49m\u001b[43masynchronous\u001b[49m\u001b[38;5;241;43m=\u001b[39;49m\u001b[43masynchronous\u001b[49m\u001b[43m,\u001b[49m\u001b[43m \u001b[49m\u001b[43mdirect\u001b[49m\u001b[38;5;241;43m=\u001b[39;49m\u001b[43mdirect\u001b[49m\u001b[43m)\u001b[49m\n\u001b[1;32m   3169\u001b[0m \u001b[38;5;28;01mfinally\u001b[39;00m:\n\u001b[1;32m   3170\u001b[0m     \u001b[38;5;28;01mfor\u001b[39;00m f \u001b[38;5;129;01min\u001b[39;00m futures\u001b[38;5;241m.\u001b[39mvalues():\n",
      "File \u001b[0;32m~/miniconda3/envs/imaging/lib/python3.9/site-packages/distributed/client.py:2328\u001b[0m, in \u001b[0;36mClient.gather\u001b[0;34m(self, futures, errors, direct, asynchronous)\u001b[0m\n\u001b[1;32m   2326\u001b[0m \u001b[38;5;28;01melse\u001b[39;00m:\n\u001b[1;32m   2327\u001b[0m     local_worker \u001b[38;5;241m=\u001b[39m \u001b[38;5;28;01mNone\u001b[39;00m\n\u001b[0;32m-> 2328\u001b[0m \u001b[38;5;28;01mreturn\u001b[39;00m \u001b[38;5;28;43mself\u001b[39;49m\u001b[38;5;241;43m.\u001b[39;49m\u001b[43msync\u001b[49m\u001b[43m(\u001b[49m\n\u001b[1;32m   2329\u001b[0m \u001b[43m    \u001b[49m\u001b[38;5;28;43mself\u001b[39;49m\u001b[38;5;241;43m.\u001b[39;49m\u001b[43m_gather\u001b[49m\u001b[43m,\u001b[49m\n\u001b[1;32m   2330\u001b[0m \u001b[43m    \u001b[49m\u001b[43mfutures\u001b[49m\u001b[43m,\u001b[49m\n\u001b[1;32m   2331\u001b[0m \u001b[43m    \u001b[49m\u001b[43merrors\u001b[49m\u001b[38;5;241;43m=\u001b[39;49m\u001b[43merrors\u001b[49m\u001b[43m,\u001b[49m\n\u001b[1;32m   2332\u001b[0m \u001b[43m    \u001b[49m\u001b[43mdirect\u001b[49m\u001b[38;5;241;43m=\u001b[39;49m\u001b[43mdirect\u001b[49m\u001b[43m,\u001b[49m\n\u001b[1;32m   2333\u001b[0m \u001b[43m    \u001b[49m\u001b[43mlocal_worker\u001b[49m\u001b[38;5;241;43m=\u001b[39;49m\u001b[43mlocal_worker\u001b[49m\u001b[43m,\u001b[49m\n\u001b[1;32m   2334\u001b[0m \u001b[43m    \u001b[49m\u001b[43masynchronous\u001b[49m\u001b[38;5;241;43m=\u001b[39;49m\u001b[43masynchronous\u001b[49m\u001b[43m,\u001b[49m\n\u001b[1;32m   2335\u001b[0m \u001b[43m\u001b[49m\u001b[43m)\u001b[49m\n",
      "File \u001b[0;32m~/miniconda3/envs/imaging/lib/python3.9/site-packages/distributed/utils.py:345\u001b[0m, in \u001b[0;36mSyncMethodMixin.sync\u001b[0;34m(self, func, asynchronous, callback_timeout, *args, **kwargs)\u001b[0m\n\u001b[1;32m    343\u001b[0m     \u001b[38;5;28;01mreturn\u001b[39;00m future\n\u001b[1;32m    344\u001b[0m \u001b[38;5;28;01melse\u001b[39;00m:\n\u001b[0;32m--> 345\u001b[0m     \u001b[38;5;28;01mreturn\u001b[39;00m \u001b[43msync\u001b[49m\u001b[43m(\u001b[49m\n\u001b[1;32m    346\u001b[0m \u001b[43m        \u001b[49m\u001b[38;5;28;43mself\u001b[39;49m\u001b[38;5;241;43m.\u001b[39;49m\u001b[43mloop\u001b[49m\u001b[43m,\u001b[49m\u001b[43m \u001b[49m\u001b[43mfunc\u001b[49m\u001b[43m,\u001b[49m\u001b[43m \u001b[49m\u001b[38;5;241;43m*\u001b[39;49m\u001b[43margs\u001b[49m\u001b[43m,\u001b[49m\u001b[43m \u001b[49m\u001b[43mcallback_timeout\u001b[49m\u001b[38;5;241;43m=\u001b[39;49m\u001b[43mcallback_timeout\u001b[49m\u001b[43m,\u001b[49m\u001b[43m \u001b[49m\u001b[38;5;241;43m*\u001b[39;49m\u001b[38;5;241;43m*\u001b[39;49m\u001b[43mkwargs\u001b[49m\n\u001b[1;32m    347\u001b[0m \u001b[43m    \u001b[49m\u001b[43m)\u001b[49m\n",
      "File \u001b[0;32m~/miniconda3/envs/imaging/lib/python3.9/site-packages/distributed/utils.py:408\u001b[0m, in \u001b[0;36msync\u001b[0;34m(loop, func, callback_timeout, *args, **kwargs)\u001b[0m\n\u001b[1;32m    406\u001b[0m \u001b[38;5;28;01melse\u001b[39;00m:\n\u001b[1;32m    407\u001b[0m     \u001b[38;5;28;01mwhile\u001b[39;00m \u001b[38;5;129;01mnot\u001b[39;00m e\u001b[38;5;241m.\u001b[39mis_set():\n\u001b[0;32m--> 408\u001b[0m         \u001b[43mwait\u001b[49m\u001b[43m(\u001b[49m\u001b[38;5;241;43m10\u001b[39;49m\u001b[43m)\u001b[49m\n\u001b[1;32m    410\u001b[0m \u001b[38;5;28;01mif\u001b[39;00m error:\n\u001b[1;32m    411\u001b[0m     typ, exc, tb \u001b[38;5;241m=\u001b[39m error\n",
      "File \u001b[0;32m~/miniconda3/envs/imaging/lib/python3.9/site-packages/distributed/utils.py:397\u001b[0m, in \u001b[0;36msync.<locals>.wait\u001b[0;34m(timeout)\u001b[0m\n\u001b[1;32m    395\u001b[0m \u001b[38;5;28;01mdef\u001b[39;00m \u001b[38;5;21mwait\u001b[39m(timeout):\n\u001b[1;32m    396\u001b[0m     \u001b[38;5;28;01mtry\u001b[39;00m:\n\u001b[0;32m--> 397\u001b[0m         \u001b[38;5;28;01mreturn\u001b[39;00m \u001b[43me\u001b[49m\u001b[38;5;241;43m.\u001b[39;49m\u001b[43mwait\u001b[49m\u001b[43m(\u001b[49m\u001b[43mtimeout\u001b[49m\u001b[43m)\u001b[49m\n\u001b[1;32m    398\u001b[0m     \u001b[38;5;28;01mexcept\u001b[39;00m \u001b[38;5;167;01mKeyboardInterrupt\u001b[39;00m:\n\u001b[1;32m    399\u001b[0m         loop\u001b[38;5;241m.\u001b[39madd_callback(cancel)\n",
      "File \u001b[0;32m~/miniconda3/envs/imaging/lib/python3.9/threading.py:581\u001b[0m, in \u001b[0;36mEvent.wait\u001b[0;34m(self, timeout)\u001b[0m\n\u001b[1;32m    579\u001b[0m signaled \u001b[38;5;241m=\u001b[39m \u001b[38;5;28mself\u001b[39m\u001b[38;5;241m.\u001b[39m_flag\n\u001b[1;32m    580\u001b[0m \u001b[38;5;28;01mif\u001b[39;00m \u001b[38;5;129;01mnot\u001b[39;00m signaled:\n\u001b[0;32m--> 581\u001b[0m     signaled \u001b[38;5;241m=\u001b[39m \u001b[38;5;28;43mself\u001b[39;49m\u001b[38;5;241;43m.\u001b[39;49m\u001b[43m_cond\u001b[49m\u001b[38;5;241;43m.\u001b[39;49m\u001b[43mwait\u001b[49m\u001b[43m(\u001b[49m\u001b[43mtimeout\u001b[49m\u001b[43m)\u001b[49m\n\u001b[1;32m    582\u001b[0m \u001b[38;5;28;01mreturn\u001b[39;00m signaled\n",
      "File \u001b[0;32m~/miniconda3/envs/imaging/lib/python3.9/threading.py:316\u001b[0m, in \u001b[0;36mCondition.wait\u001b[0;34m(self, timeout)\u001b[0m\n\u001b[1;32m    314\u001b[0m \u001b[38;5;28;01melse\u001b[39;00m:\n\u001b[1;32m    315\u001b[0m     \u001b[38;5;28;01mif\u001b[39;00m timeout \u001b[38;5;241m>\u001b[39m \u001b[38;5;241m0\u001b[39m:\n\u001b[0;32m--> 316\u001b[0m         gotit \u001b[38;5;241m=\u001b[39m \u001b[43mwaiter\u001b[49m\u001b[38;5;241;43m.\u001b[39;49m\u001b[43macquire\u001b[49m\u001b[43m(\u001b[49m\u001b[38;5;28;43;01mTrue\u001b[39;49;00m\u001b[43m,\u001b[49m\u001b[43m \u001b[49m\u001b[43mtimeout\u001b[49m\u001b[43m)\u001b[49m\n\u001b[1;32m    317\u001b[0m     \u001b[38;5;28;01melse\u001b[39;00m:\n\u001b[1;32m    318\u001b[0m         gotit \u001b[38;5;241m=\u001b[39m waiter\u001b[38;5;241m.\u001b[39macquire(\u001b[38;5;28;01mFalse\u001b[39;00m)\n",
      "\u001b[0;31mKeyboardInterrupt\u001b[0m: "
     ]
    }
   ],
   "source": [
    "bf.process_parallel_dataset()"
   ]
  },
  {
   "cell_type": "code",
   "execution_count": 8,
   "metadata": {},
   "outputs": [
    {
     "name": "stdout",
     "output_type": "stream",
     "text": [
      "Source folder accessible? True\n",
      "Destination folder accessible? True\n",
      "Slide2_A3.nd2\n",
      "Slide2_A1.nd2\n",
      "Slide2_B1.nd2\n",
      "Slide1_B3.nd2\n",
      "Slide2_B3.nd2\n",
      "Slide1_B2.nd2\n",
      "Slide1_A3.nd2\n",
      "Slide1_A2.nd2\n",
      "Slide1_B1.nd2\n",
      "Slide1_B4.nd2\n",
      "Slide1_A4.nd2\n",
      "Slide1_A1.nd2\n",
      "Discovered 972 positions in 12 files.\n"
     ]
    }
   ],
   "source": [
    "import pandas as pd\n",
    "bf = beadfinder.FolderProcessor('config2.yml')\n",
    "bf.filelist = pd.read_csv(bf.destination/'filelist.csv')"
   ]
  },
  {
   "cell_type": "code",
   "execution_count": 9,
   "metadata": {},
   "outputs": [
    {
     "ename": "RuntimeError",
     "evalue": "Can't redefine method: __getstate__ on class: __torch__.torch.utils.mkldnn.MkldnnBatchNorm (of Python compilation unit at: 0x55e46d521380)",
     "output_type": "error",
     "traceback": [
      "\u001b[0;31m---------------------------------------------------------------------------\u001b[0m",
      "\u001b[0;31mRuntimeError\u001b[0m                              Traceback (most recent call last)",
      "Cell \u001b[0;32mIn[9], line 1\u001b[0m\n\u001b[0;32m----> 1\u001b[0m \u001b[43mbf\u001b[49m\u001b[38;5;241;43m.\u001b[39;49m\u001b[43mprocess_parallel_dataset\u001b[49m\u001b[43m(\u001b[49m\u001b[43m)\u001b[49m\n",
      "File \u001b[0;32m~/code/three-microns-beads-in-cells/beadfinder.py:703\u001b[0m, in \u001b[0;36mFolderProcessor.process_parallel_dataset\u001b[0;34m(self)\u001b[0m\n\u001b[1;32m    700\u001b[0m tsk \u001b[38;5;241m=\u001b[39m [dask\u001b[38;5;241m.\u001b[39mdelayed(\u001b[38;5;28mself\u001b[39m\u001b[38;5;241m.\u001b[39mprocess_item)(row) \u001b[38;5;28;01mfor\u001b[39;00m row \u001b[38;5;129;01min\u001b[39;00m \u001b[38;5;28mself\u001b[39m\u001b[38;5;241m.\u001b[39mfilelist\u001b[38;5;241m.\u001b[39miloc]\n\u001b[1;32m    702\u001b[0m \u001b[38;5;66;03m# run the tasks\u001b[39;00m\n\u001b[0;32m--> 703\u001b[0m results \u001b[38;5;241m=\u001b[39m \u001b[43mdask\u001b[49m\u001b[38;5;241;43m.\u001b[39;49m\u001b[43mcompute\u001b[49m\u001b[43m(\u001b[49m\u001b[43mtsk\u001b[49m\u001b[43m)\u001b[49m\n\u001b[1;32m    705\u001b[0m \u001b[38;5;66;03m# concatenate all results in 1 data frame\u001b[39;00m\n\u001b[1;32m    706\u001b[0m cells \u001b[38;5;241m=\u001b[39m pd\u001b[38;5;241m.\u001b[39mconcat([c \u001b[38;5;28;01mfor\u001b[39;00m c, _ \u001b[38;5;129;01min\u001b[39;00m results[\u001b[38;5;241m0\u001b[39m]])\n",
      "File \u001b[0;32m~/miniconda3/envs/imaging/lib/python3.9/site-packages/dask/base.py:599\u001b[0m, in \u001b[0;36mcompute\u001b[0;34m(traverse, optimize_graph, scheduler, get, *args, **kwargs)\u001b[0m\n\u001b[1;32m    596\u001b[0m     keys\u001b[38;5;241m.\u001b[39mappend(x\u001b[38;5;241m.\u001b[39m__dask_keys__())\n\u001b[1;32m    597\u001b[0m     postcomputes\u001b[38;5;241m.\u001b[39mappend(x\u001b[38;5;241m.\u001b[39m__dask_postcompute__())\n\u001b[0;32m--> 599\u001b[0m results \u001b[38;5;241m=\u001b[39m \u001b[43mschedule\u001b[49m\u001b[43m(\u001b[49m\u001b[43mdsk\u001b[49m\u001b[43m,\u001b[49m\u001b[43m \u001b[49m\u001b[43mkeys\u001b[49m\u001b[43m,\u001b[49m\u001b[43m \u001b[49m\u001b[38;5;241;43m*\u001b[39;49m\u001b[38;5;241;43m*\u001b[39;49m\u001b[43mkwargs\u001b[49m\u001b[43m)\u001b[49m\n\u001b[1;32m    600\u001b[0m \u001b[38;5;28;01mreturn\u001b[39;00m repack([f(r, \u001b[38;5;241m*\u001b[39ma) \u001b[38;5;28;01mfor\u001b[39;00m r, (f, a) \u001b[38;5;129;01min\u001b[39;00m \u001b[38;5;28mzip\u001b[39m(results, postcomputes)])\n",
      "File \u001b[0;32m~/miniconda3/envs/imaging/lib/python3.9/site-packages/distributed/client.py:3168\u001b[0m, in \u001b[0;36mClient.get\u001b[0;34m(self, dsk, keys, workers, allow_other_workers, resources, sync, asynchronous, direct, retries, priority, fifo_timeout, actors, **kwargs)\u001b[0m\n\u001b[1;32m   3166\u001b[0m         should_rejoin \u001b[38;5;241m=\u001b[39m \u001b[38;5;28;01mFalse\u001b[39;00m\n\u001b[1;32m   3167\u001b[0m \u001b[38;5;28;01mtry\u001b[39;00m:\n\u001b[0;32m-> 3168\u001b[0m     results \u001b[38;5;241m=\u001b[39m \u001b[38;5;28;43mself\u001b[39;49m\u001b[38;5;241;43m.\u001b[39;49m\u001b[43mgather\u001b[49m\u001b[43m(\u001b[49m\u001b[43mpacked\u001b[49m\u001b[43m,\u001b[49m\u001b[43m \u001b[49m\u001b[43masynchronous\u001b[49m\u001b[38;5;241;43m=\u001b[39;49m\u001b[43masynchronous\u001b[49m\u001b[43m,\u001b[49m\u001b[43m \u001b[49m\u001b[43mdirect\u001b[49m\u001b[38;5;241;43m=\u001b[39;49m\u001b[43mdirect\u001b[49m\u001b[43m)\u001b[49m\n\u001b[1;32m   3169\u001b[0m \u001b[38;5;28;01mfinally\u001b[39;00m:\n\u001b[1;32m   3170\u001b[0m     \u001b[38;5;28;01mfor\u001b[39;00m f \u001b[38;5;129;01min\u001b[39;00m futures\u001b[38;5;241m.\u001b[39mvalues():\n",
      "File \u001b[0;32m~/miniconda3/envs/imaging/lib/python3.9/site-packages/distributed/client.py:2328\u001b[0m, in \u001b[0;36mClient.gather\u001b[0;34m(self, futures, errors, direct, asynchronous)\u001b[0m\n\u001b[1;32m   2326\u001b[0m \u001b[38;5;28;01melse\u001b[39;00m:\n\u001b[1;32m   2327\u001b[0m     local_worker \u001b[38;5;241m=\u001b[39m \u001b[38;5;28;01mNone\u001b[39;00m\n\u001b[0;32m-> 2328\u001b[0m \u001b[38;5;28;01mreturn\u001b[39;00m \u001b[38;5;28;43mself\u001b[39;49m\u001b[38;5;241;43m.\u001b[39;49m\u001b[43msync\u001b[49m\u001b[43m(\u001b[49m\n\u001b[1;32m   2329\u001b[0m \u001b[43m    \u001b[49m\u001b[38;5;28;43mself\u001b[39;49m\u001b[38;5;241;43m.\u001b[39;49m\u001b[43m_gather\u001b[49m\u001b[43m,\u001b[49m\n\u001b[1;32m   2330\u001b[0m \u001b[43m    \u001b[49m\u001b[43mfutures\u001b[49m\u001b[43m,\u001b[49m\n\u001b[1;32m   2331\u001b[0m \u001b[43m    \u001b[49m\u001b[43merrors\u001b[49m\u001b[38;5;241;43m=\u001b[39;49m\u001b[43merrors\u001b[49m\u001b[43m,\u001b[49m\n\u001b[1;32m   2332\u001b[0m \u001b[43m    \u001b[49m\u001b[43mdirect\u001b[49m\u001b[38;5;241;43m=\u001b[39;49m\u001b[43mdirect\u001b[49m\u001b[43m,\u001b[49m\n\u001b[1;32m   2333\u001b[0m \u001b[43m    \u001b[49m\u001b[43mlocal_worker\u001b[49m\u001b[38;5;241;43m=\u001b[39;49m\u001b[43mlocal_worker\u001b[49m\u001b[43m,\u001b[49m\n\u001b[1;32m   2334\u001b[0m \u001b[43m    \u001b[49m\u001b[43masynchronous\u001b[49m\u001b[38;5;241;43m=\u001b[39;49m\u001b[43masynchronous\u001b[49m\u001b[43m,\u001b[49m\n\u001b[1;32m   2335\u001b[0m \u001b[43m\u001b[49m\u001b[43m)\u001b[49m\n",
      "File \u001b[0;32m~/miniconda3/envs/imaging/lib/python3.9/site-packages/distributed/utils.py:345\u001b[0m, in \u001b[0;36mSyncMethodMixin.sync\u001b[0;34m(self, func, asynchronous, callback_timeout, *args, **kwargs)\u001b[0m\n\u001b[1;32m    343\u001b[0m     \u001b[38;5;28;01mreturn\u001b[39;00m future\n\u001b[1;32m    344\u001b[0m \u001b[38;5;28;01melse\u001b[39;00m:\n\u001b[0;32m--> 345\u001b[0m     \u001b[38;5;28;01mreturn\u001b[39;00m \u001b[43msync\u001b[49m\u001b[43m(\u001b[49m\n\u001b[1;32m    346\u001b[0m \u001b[43m        \u001b[49m\u001b[38;5;28;43mself\u001b[39;49m\u001b[38;5;241;43m.\u001b[39;49m\u001b[43mloop\u001b[49m\u001b[43m,\u001b[49m\u001b[43m \u001b[49m\u001b[43mfunc\u001b[49m\u001b[43m,\u001b[49m\u001b[43m \u001b[49m\u001b[38;5;241;43m*\u001b[39;49m\u001b[43margs\u001b[49m\u001b[43m,\u001b[49m\u001b[43m \u001b[49m\u001b[43mcallback_timeout\u001b[49m\u001b[38;5;241;43m=\u001b[39;49m\u001b[43mcallback_timeout\u001b[49m\u001b[43m,\u001b[49m\u001b[43m \u001b[49m\u001b[38;5;241;43m*\u001b[39;49m\u001b[38;5;241;43m*\u001b[39;49m\u001b[43mkwargs\u001b[49m\n\u001b[1;32m    347\u001b[0m \u001b[43m    \u001b[49m\u001b[43m)\u001b[49m\n",
      "File \u001b[0;32m~/miniconda3/envs/imaging/lib/python3.9/site-packages/distributed/utils.py:412\u001b[0m, in \u001b[0;36msync\u001b[0;34m(loop, func, callback_timeout, *args, **kwargs)\u001b[0m\n\u001b[1;32m    410\u001b[0m \u001b[38;5;28;01mif\u001b[39;00m error:\n\u001b[1;32m    411\u001b[0m     typ, exc, tb \u001b[38;5;241m=\u001b[39m error\n\u001b[0;32m--> 412\u001b[0m     \u001b[38;5;28;01mraise\u001b[39;00m exc\u001b[38;5;241m.\u001b[39mwith_traceback(tb)\n\u001b[1;32m    413\u001b[0m \u001b[38;5;28;01melse\u001b[39;00m:\n\u001b[1;32m    414\u001b[0m     \u001b[38;5;28;01mreturn\u001b[39;00m result\n",
      "File \u001b[0;32m~/miniconda3/envs/imaging/lib/python3.9/site-packages/distributed/utils.py:385\u001b[0m, in \u001b[0;36msync.<locals>.f\u001b[0;34m()\u001b[0m\n\u001b[1;32m    383\u001b[0m         future \u001b[38;5;241m=\u001b[39m wait_for(future, callback_timeout)\n\u001b[1;32m    384\u001b[0m     future \u001b[38;5;241m=\u001b[39m asyncio\u001b[38;5;241m.\u001b[39mensure_future(future)\n\u001b[0;32m--> 385\u001b[0m     result \u001b[38;5;241m=\u001b[39m \u001b[38;5;28;01myield\u001b[39;00m future\n\u001b[1;32m    386\u001b[0m \u001b[38;5;28;01mexcept\u001b[39;00m \u001b[38;5;167;01mException\u001b[39;00m:\n\u001b[1;32m    387\u001b[0m     error \u001b[38;5;241m=\u001b[39m sys\u001b[38;5;241m.\u001b[39mexc_info()\n",
      "File \u001b[0;32m~/miniconda3/envs/imaging/lib/python3.9/site-packages/tornado/gen.py:769\u001b[0m, in \u001b[0;36mRunner.run\u001b[0;34m(self)\u001b[0m\n\u001b[1;32m    766\u001b[0m exc_info \u001b[38;5;241m=\u001b[39m \u001b[38;5;28;01mNone\u001b[39;00m\n\u001b[1;32m    768\u001b[0m \u001b[38;5;28;01mtry\u001b[39;00m:\n\u001b[0;32m--> 769\u001b[0m     value \u001b[38;5;241m=\u001b[39m \u001b[43mfuture\u001b[49m\u001b[38;5;241;43m.\u001b[39;49m\u001b[43mresult\u001b[49m\u001b[43m(\u001b[49m\u001b[43m)\u001b[49m\n\u001b[1;32m    770\u001b[0m \u001b[38;5;28;01mexcept\u001b[39;00m \u001b[38;5;167;01mException\u001b[39;00m:\n\u001b[1;32m    771\u001b[0m     exc_info \u001b[38;5;241m=\u001b[39m sys\u001b[38;5;241m.\u001b[39mexc_info()\n",
      "File \u001b[0;32m~/miniconda3/envs/imaging/lib/python3.9/site-packages/distributed/client.py:2191\u001b[0m, in \u001b[0;36mClient._gather\u001b[0;34m(self, futures, errors, direct, local_worker)\u001b[0m\n\u001b[1;32m   2189\u001b[0m         exc \u001b[38;5;241m=\u001b[39m CancelledError(key)\n\u001b[1;32m   2190\u001b[0m     \u001b[38;5;28;01melse\u001b[39;00m:\n\u001b[0;32m-> 2191\u001b[0m         \u001b[38;5;28;01mraise\u001b[39;00m exception\u001b[38;5;241m.\u001b[39mwith_traceback(traceback)\n\u001b[1;32m   2192\u001b[0m     \u001b[38;5;28;01mraise\u001b[39;00m exc\n\u001b[1;32m   2193\u001b[0m \u001b[38;5;28;01mif\u001b[39;00m errors \u001b[38;5;241m==\u001b[39m \u001b[38;5;124m\"\u001b[39m\u001b[38;5;124mskip\u001b[39m\u001b[38;5;124m\"\u001b[39m:\n",
      "File \u001b[0;32m~/code/three-microns-beads-in-cells/beadfinder.py:657\u001b[0m, in \u001b[0;36mprocess_item\u001b[0;34m()\u001b[0m\n\u001b[1;32m    653\u001b[0m \u001b[38;5;28;01mdef\u001b[39;00m \u001b[38;5;21mprocess_item\u001b[39m(\u001b[38;5;28mself\u001b[39m, row: pd\u001b[38;5;241m.\u001b[39mDataFrame):\n\u001b[1;32m    655\u001b[0m     img, spacing \u001b[38;5;241m=\u001b[39m \u001b[38;5;28mself\u001b[39m\u001b[38;5;241m.\u001b[39mload_image(row)\n\u001b[0;32m--> 657\u001b[0m     cells_df, beads_df, labels \u001b[38;5;241m=\u001b[39m process_img(\n\u001b[1;32m    658\u001b[0m         img, spacing, cell_stitch_threshold\u001b[38;5;241m=\u001b[39m\u001b[38;5;241m0.1\u001b[39m\n\u001b[1;32m    659\u001b[0m     )\n\u001b[1;32m    661\u001b[0m     cells_df[\u001b[38;5;124m\"\u001b[39m\u001b[38;5;124mname\u001b[39m\u001b[38;5;124m\"\u001b[39m] \u001b[38;5;241m=\u001b[39m row[\u001b[38;5;124m\"\u001b[39m\u001b[38;5;124mname\u001b[39m\u001b[38;5;124m\"\u001b[39m]\n\u001b[1;32m    662\u001b[0m     cells_df[\u001b[38;5;124m\"\u001b[39m\u001b[38;5;124mfov\u001b[39m\u001b[38;5;124m\"\u001b[39m] \u001b[38;5;241m=\u001b[39m row[\u001b[38;5;124m\"\u001b[39m\u001b[38;5;124mfov\u001b[39m\u001b[38;5;124m\"\u001b[39m]\n",
      "File \u001b[0;32m~/code/three-microns-beads-in-cells/beadfinder.py:458\u001b[0m, in \u001b[0;36mprocess_img\u001b[0;34m()\u001b[0m\n\u001b[1;32m    450\u001b[0m \u001b[38;5;66;03m# median_filter(img[:, cell_cytosolic_channel], [3, 3, 3]),\u001b[39;00m\n\u001b[1;32m    451\u001b[0m img_preprocessed \u001b[38;5;241m=\u001b[39m np\u001b[38;5;241m.\u001b[39mstack(\n\u001b[1;32m    452\u001b[0m     (\n\u001b[1;32m    453\u001b[0m         np\u001b[38;5;241m.\u001b[39mlog(img[:, cell_cytosolic_channel]\u001b[38;5;241m.\u001b[39mastype(\u001b[38;5;28mfloat\u001b[39m)),\n\u001b[0;32m   (...)\u001b[0m\n\u001b[1;32m    456\u001b[0m     axis\u001b[38;5;241m=\u001b[39m\u001b[38;5;241m1\u001b[39m,\n\u001b[1;32m    457\u001b[0m )\n\u001b[0;32m--> 458\u001b[0m cell_labels \u001b[38;5;241m=\u001b[39m model\u001b[38;5;241m.\u001b[39meval(\n\u001b[1;32m    459\u001b[0m     img_preprocessed,\n\u001b[1;32m    460\u001b[0m     diameter\u001b[38;5;241m=\u001b[39mcell_diameter,\n\u001b[1;32m    461\u001b[0m     channels\u001b[38;5;241m=\u001b[39m[\u001b[38;5;241m1\u001b[39m, \u001b[38;5;241m2\u001b[39m],\n\u001b[1;32m    462\u001b[0m     do_3D\u001b[38;5;241m=\u001b[39m\u001b[38;5;28;01mFalse\u001b[39;00m,\n\u001b[1;32m    463\u001b[0m     stitch_threshold\u001b[38;5;241m=\u001b[39mcell_stitch_threshold,\n\u001b[1;32m    464\u001b[0m )[\u001b[38;5;241m0\u001b[39m]\n\u001b[1;32m    466\u001b[0m cell_props \u001b[38;5;241m=\u001b[39m labelprops(cell_labels, img, spacing)\n\u001b[1;32m    468\u001b[0m centers \u001b[38;5;241m=\u001b[39m detect_spheres(\n\u001b[1;32m    469\u001b[0m     img[:, \u001b[38;5;241m2\u001b[39m], spacing, bead_diameter, bead_thickness, bead_threshold\n\u001b[1;32m    470\u001b[0m )\n",
      "File \u001b[0;32m~/miniconda3/envs/imaging/lib/python3.9/site-packages/cellpose/models.py:239\u001b[0m, in \u001b[0;36meval\u001b[0;34m()\u001b[0m\n\u001b[1;32m    237\u001b[0m tic \u001b[38;5;241m=\u001b[39m time\u001b[38;5;241m.\u001b[39mtime()\n\u001b[1;32m    238\u001b[0m models_logger\u001b[38;5;241m.\u001b[39minfo(\u001b[38;5;124m'\u001b[39m\u001b[38;5;124m~~~ FINDING MASKS ~~~\u001b[39m\u001b[38;5;124m'\u001b[39m)\n\u001b[0;32m--> 239\u001b[0m masks, flows, styles \u001b[38;5;241m=\u001b[39m \u001b[38;5;28mself\u001b[39m\u001b[38;5;241m.\u001b[39mcp\u001b[38;5;241m.\u001b[39meval(x, \n\u001b[1;32m    240\u001b[0m                                     batch_size\u001b[38;5;241m=\u001b[39mbatch_size, \n\u001b[1;32m    241\u001b[0m                                     invert\u001b[38;5;241m=\u001b[39minvert, \n\u001b[1;32m    242\u001b[0m                                     normalize\u001b[38;5;241m=\u001b[39mnormalize,\n\u001b[1;32m    243\u001b[0m                                     diameter\u001b[38;5;241m=\u001b[39mdiameter,\n\u001b[1;32m    244\u001b[0m                                     rescale\u001b[38;5;241m=\u001b[39mrescale, \n\u001b[1;32m    245\u001b[0m                                     anisotropy\u001b[38;5;241m=\u001b[39manisotropy, \n\u001b[1;32m    246\u001b[0m                                     channels\u001b[38;5;241m=\u001b[39mchannels,\n\u001b[1;32m    247\u001b[0m                                     channel_axis\u001b[38;5;241m=\u001b[39mchannel_axis, \n\u001b[1;32m    248\u001b[0m                                     z_axis\u001b[38;5;241m=\u001b[39mz_axis,\n\u001b[1;32m    249\u001b[0m                                     augment\u001b[38;5;241m=\u001b[39maugment, \n\u001b[1;32m    250\u001b[0m                                     tile\u001b[38;5;241m=\u001b[39mtile, \n\u001b[1;32m    251\u001b[0m                                     do_3D\u001b[38;5;241m=\u001b[39mdo_3D, \n\u001b[1;32m    252\u001b[0m                                     net_avg\u001b[38;5;241m=\u001b[39mnet_avg, \n\u001b[1;32m    253\u001b[0m                                     progress\u001b[38;5;241m=\u001b[39mprogress,\n\u001b[1;32m    254\u001b[0m                                     tile_overlap\u001b[38;5;241m=\u001b[39mtile_overlap,\n\u001b[1;32m    255\u001b[0m                                     resample\u001b[38;5;241m=\u001b[39mresample,\n\u001b[1;32m    256\u001b[0m                                     interp\u001b[38;5;241m=\u001b[39minterp,\n\u001b[1;32m    257\u001b[0m                                     flow_threshold\u001b[38;5;241m=\u001b[39mflow_threshold, \n\u001b[1;32m    258\u001b[0m                                     cellprob_threshold\u001b[38;5;241m=\u001b[39mcellprob_threshold,\n\u001b[1;32m    259\u001b[0m                                     min_size\u001b[38;5;241m=\u001b[39mmin_size, \n\u001b[1;32m    260\u001b[0m                                     stitch_threshold\u001b[38;5;241m=\u001b[39mstitch_threshold,\n\u001b[1;32m    261\u001b[0m                                     model_loaded\u001b[38;5;241m=\u001b[39mmodel_loaded)\n\u001b[1;32m    262\u001b[0m models_logger\u001b[38;5;241m.\u001b[39minfo(\u001b[38;5;124m'\u001b[39m\u001b[38;5;124m>>>> TOTAL TIME \u001b[39m\u001b[38;5;132;01m%0.2f\u001b[39;00m\u001b[38;5;124m sec\u001b[39m\u001b[38;5;124m'\u001b[39m\u001b[38;5;241m%\u001b[39m(time\u001b[38;5;241m.\u001b[39mtime()\u001b[38;5;241m-\u001b[39mtic0))\n\u001b[1;32m    264\u001b[0m \u001b[38;5;28;01mreturn\u001b[39;00m masks, flows, styles, diams\n",
      "File \u001b[0;32m~/miniconda3/envs/imaging/lib/python3.9/site-packages/cellpose/models.py:552\u001b[0m, in \u001b[0;36meval\u001b[0;34m()\u001b[0m\n\u001b[1;32m    549\u001b[0m     diameter \u001b[38;5;241m=\u001b[39m \u001b[38;5;28mself\u001b[39m\u001b[38;5;241m.\u001b[39mdiam_labels\n\u001b[1;32m    550\u001b[0m     rescale \u001b[38;5;241m=\u001b[39m \u001b[38;5;28mself\u001b[39m\u001b[38;5;241m.\u001b[39mdiam_mean \u001b[38;5;241m/\u001b[39m diameter\n\u001b[0;32m--> 552\u001b[0m masks, styles, dP, cellprob, p \u001b[38;5;241m=\u001b[39m \u001b[38;5;28mself\u001b[39m\u001b[38;5;241m.\u001b[39m_run_cp(x, \n\u001b[1;32m    553\u001b[0m                                               compute_masks\u001b[38;5;241m=\u001b[39mcompute_masks,\n\u001b[1;32m    554\u001b[0m                                               normalize\u001b[38;5;241m=\u001b[39mnormalize,\n\u001b[1;32m    555\u001b[0m                                               invert\u001b[38;5;241m=\u001b[39minvert,\n\u001b[1;32m    556\u001b[0m                                               rescale\u001b[38;5;241m=\u001b[39mrescale, \n\u001b[1;32m    557\u001b[0m                                               net_avg\u001b[38;5;241m=\u001b[39mnet_avg, \n\u001b[1;32m    558\u001b[0m                                               resample\u001b[38;5;241m=\u001b[39mresample,\n\u001b[1;32m    559\u001b[0m                                               augment\u001b[38;5;241m=\u001b[39maugment, \n\u001b[1;32m    560\u001b[0m                                               tile\u001b[38;5;241m=\u001b[39mtile, \n\u001b[1;32m    561\u001b[0m                                               tile_overlap\u001b[38;5;241m=\u001b[39mtile_overlap,\n\u001b[1;32m    562\u001b[0m                                               flow_threshold\u001b[38;5;241m=\u001b[39mflow_threshold,\n\u001b[1;32m    563\u001b[0m                                               cellprob_threshold\u001b[38;5;241m=\u001b[39mcellprob_threshold, \n\u001b[1;32m    564\u001b[0m                                               interp\u001b[38;5;241m=\u001b[39minterp,\n\u001b[1;32m    565\u001b[0m                                               min_size\u001b[38;5;241m=\u001b[39mmin_size, \n\u001b[1;32m    566\u001b[0m                                               do_3D\u001b[38;5;241m=\u001b[39mdo_3D, \n\u001b[1;32m    567\u001b[0m                                               anisotropy\u001b[38;5;241m=\u001b[39manisotropy,\n\u001b[1;32m    568\u001b[0m                                               stitch_threshold\u001b[38;5;241m=\u001b[39mstitch_threshold,\n\u001b[1;32m    569\u001b[0m                                               )\n\u001b[1;32m    571\u001b[0m flows \u001b[38;5;241m=\u001b[39m [plot\u001b[38;5;241m.\u001b[39mdx_to_circ(dP), dP, cellprob, p]\n\u001b[1;32m    572\u001b[0m \u001b[38;5;28;01mreturn\u001b[39;00m masks, flows, styles\n",
      "File \u001b[0;32m~/miniconda3/envs/imaging/lib/python3.9/site-packages/cellpose/models.py:616\u001b[0m, in \u001b[0;36m_run_cp\u001b[0;34m()\u001b[0m\n\u001b[1;32m    614\u001b[0m \u001b[38;5;28;01mif\u001b[39;00m rescale \u001b[38;5;241m!=\u001b[39m \u001b[38;5;241m1.0\u001b[39m:\n\u001b[1;32m    615\u001b[0m     img \u001b[38;5;241m=\u001b[39m transforms\u001b[38;5;241m.\u001b[39mresize_image(img, rsz\u001b[38;5;241m=\u001b[39mrescale)\n\u001b[0;32m--> 616\u001b[0m yf, style \u001b[38;5;241m=\u001b[39m \u001b[38;5;28mself\u001b[39m\u001b[38;5;241m.\u001b[39m_run_nets(img, net_avg\u001b[38;5;241m=\u001b[39mnet_avg,\n\u001b[1;32m    617\u001b[0m                            augment\u001b[38;5;241m=\u001b[39maugment, tile\u001b[38;5;241m=\u001b[39mtile,\n\u001b[1;32m    618\u001b[0m                            tile_overlap\u001b[38;5;241m=\u001b[39mtile_overlap)\n\u001b[1;32m    619\u001b[0m \u001b[38;5;28;01mif\u001b[39;00m resample:\n\u001b[1;32m    620\u001b[0m     yf \u001b[38;5;241m=\u001b[39m transforms\u001b[38;5;241m.\u001b[39mresize_image(yf, shape[\u001b[38;5;241m1\u001b[39m], shape[\u001b[38;5;241m2\u001b[39m])\n",
      "File \u001b[0;32m~/miniconda3/envs/imaging/lib/python3.9/site-packages/cellpose/core.py:363\u001b[0m, in \u001b[0;36m_run_nets\u001b[0;34m()\u001b[0m\n\u001b[1;32m    327\u001b[0m \u001b[38;5;250m\u001b[39m\u001b[38;5;124;03m\"\"\" run network (if more than one, loop over networks and average results\u001b[39;00m\n\u001b[1;32m    328\u001b[0m \n\u001b[1;32m    329\u001b[0m \u001b[38;5;124;03mParameters\u001b[39;00m\n\u001b[0;32m   (...)\u001b[0m\n\u001b[1;32m    360\u001b[0m \n\u001b[1;32m    361\u001b[0m \u001b[38;5;124;03m\"\"\"\u001b[39;00m\n\u001b[1;32m    362\u001b[0m \u001b[38;5;28;01mif\u001b[39;00m \u001b[38;5;28misinstance\u001b[39m(\u001b[38;5;28mself\u001b[39m\u001b[38;5;241m.\u001b[39mpretrained_model, \u001b[38;5;28mstr\u001b[39m) \u001b[38;5;129;01mor\u001b[39;00m \u001b[38;5;129;01mnot\u001b[39;00m net_avg:  \n\u001b[0;32m--> 363\u001b[0m     y, style \u001b[38;5;241m=\u001b[39m \u001b[38;5;28mself\u001b[39m\u001b[38;5;241m.\u001b[39m_run_net(img, augment\u001b[38;5;241m=\u001b[39maugment, tile\u001b[38;5;241m=\u001b[39mtile, tile_overlap\u001b[38;5;241m=\u001b[39mtile_overlap,\n\u001b[1;32m    364\u001b[0m                              bsize\u001b[38;5;241m=\u001b[39mbsize, return_conv\u001b[38;5;241m=\u001b[39mreturn_conv)\n\u001b[1;32m    365\u001b[0m \u001b[38;5;28;01melse\u001b[39;00m:  \n\u001b[1;32m    366\u001b[0m     \u001b[38;5;28;01mfor\u001b[39;00m j \u001b[38;5;129;01min\u001b[39;00m \u001b[38;5;28mrange\u001b[39m(\u001b[38;5;28mlen\u001b[39m(\u001b[38;5;28mself\u001b[39m\u001b[38;5;241m.\u001b[39mpretrained_model)):\n",
      "File \u001b[0;32m~/miniconda3/envs/imaging/lib/python3.9/site-packages/cellpose/core.py:442\u001b[0m, in \u001b[0;36m_run_net\u001b[0;34m()\u001b[0m\n\u001b[1;32m    440\u001b[0m \u001b[38;5;66;03m# run network\u001b[39;00m\n\u001b[1;32m    441\u001b[0m \u001b[38;5;28;01mif\u001b[39;00m tile \u001b[38;5;129;01mor\u001b[39;00m augment \u001b[38;5;129;01mor\u001b[39;00m imgs\u001b[38;5;241m.\u001b[39mndim\u001b[38;5;241m==\u001b[39m\u001b[38;5;241m4\u001b[39m:\n\u001b[0;32m--> 442\u001b[0m     y, style \u001b[38;5;241m=\u001b[39m \u001b[38;5;28mself\u001b[39m\u001b[38;5;241m.\u001b[39m_run_tiled(imgs, augment\u001b[38;5;241m=\u001b[39maugment, bsize\u001b[38;5;241m=\u001b[39mbsize, \n\u001b[1;32m    443\u001b[0m                               tile_overlap\u001b[38;5;241m=\u001b[39mtile_overlap, \n\u001b[1;32m    444\u001b[0m                               return_conv\u001b[38;5;241m=\u001b[39mreturn_conv)\n\u001b[1;32m    445\u001b[0m \u001b[38;5;28;01melse\u001b[39;00m:\n\u001b[1;32m    446\u001b[0m     imgs \u001b[38;5;241m=\u001b[39m np\u001b[38;5;241m.\u001b[39mexpand_dims(imgs, axis\u001b[38;5;241m=\u001b[39m\u001b[38;5;241m0\u001b[39m)\n",
      "File \u001b[0;32m~/miniconda3/envs/imaging/lib/python3.9/site-packages/cellpose/core.py:543\u001b[0m, in \u001b[0;36m_run_tiled\u001b[0;34m()\u001b[0m\n\u001b[1;32m    541\u001b[0m \u001b[38;5;28;01mfor\u001b[39;00m k \u001b[38;5;129;01min\u001b[39;00m \u001b[38;5;28mrange\u001b[39m(niter):\n\u001b[1;32m    542\u001b[0m     irange \u001b[38;5;241m=\u001b[39m np\u001b[38;5;241m.\u001b[39marange(batch_size\u001b[38;5;241m*\u001b[39mk, \u001b[38;5;28mmin\u001b[39m(IMG\u001b[38;5;241m.\u001b[39mshape[\u001b[38;5;241m0\u001b[39m], batch_size\u001b[38;5;241m*\u001b[39mk\u001b[38;5;241m+\u001b[39mbatch_size))\n\u001b[0;32m--> 543\u001b[0m     y0, style \u001b[38;5;241m=\u001b[39m \u001b[38;5;28mself\u001b[39m\u001b[38;5;241m.\u001b[39mnetwork(IMG[irange], return_conv\u001b[38;5;241m=\u001b[39mreturn_conv)\n\u001b[1;32m    544\u001b[0m     y[irange] \u001b[38;5;241m=\u001b[39m y0\u001b[38;5;241m.\u001b[39mreshape(\u001b[38;5;28mlen\u001b[39m(irange), y0\u001b[38;5;241m.\u001b[39mshape[\u001b[38;5;241m-\u001b[39m\u001b[38;5;241m3\u001b[39m], y0\u001b[38;5;241m.\u001b[39mshape[\u001b[38;5;241m-\u001b[39m\u001b[38;5;241m2\u001b[39m], y0\u001b[38;5;241m.\u001b[39mshape[\u001b[38;5;241m-\u001b[39m\u001b[38;5;241m1\u001b[39m])\n\u001b[1;32m    545\u001b[0m     \u001b[38;5;28;01mif\u001b[39;00m k\u001b[38;5;241m==\u001b[39m\u001b[38;5;241m0\u001b[39m:\n",
      "File \u001b[0;32m~/miniconda3/envs/imaging/lib/python3.9/site-packages/cellpose/core.py:313\u001b[0m, in \u001b[0;36mnetwork\u001b[0;34m()\u001b[0m\n\u001b[1;32m    311\u001b[0m \u001b[38;5;28mself\u001b[39m\u001b[38;5;241m.\u001b[39mnet\u001b[38;5;241m.\u001b[39meval()\n\u001b[1;32m    312\u001b[0m \u001b[38;5;28;01mif\u001b[39;00m \u001b[38;5;28mself\u001b[39m\u001b[38;5;241m.\u001b[39mmkldnn:\n\u001b[0;32m--> 313\u001b[0m     \u001b[38;5;28mself\u001b[39m\u001b[38;5;241m.\u001b[39mnet \u001b[38;5;241m=\u001b[39m mkldnn_utils\u001b[38;5;241m.\u001b[39mto_mkldnn(\u001b[38;5;28mself\u001b[39m\u001b[38;5;241m.\u001b[39mnet)\n\u001b[1;32m    314\u001b[0m \u001b[38;5;28;01mwith\u001b[39;00m torch\u001b[38;5;241m.\u001b[39mno_grad():\n\u001b[1;32m    315\u001b[0m     y, style \u001b[38;5;241m=\u001b[39m \u001b[38;5;28mself\u001b[39m\u001b[38;5;241m.\u001b[39mnet(X)\n",
      "File \u001b[0;32m~/miniconda3/envs/imaging/lib/python3.9/site-packages/torch/utils/mkldnn.py:232\u001b[0m, in \u001b[0;36mto_mkldnn\u001b[0;34m()\u001b[0m\n\u001b[1;32m    229\u001b[0m         \u001b[38;5;28msetattr\u001b[39m(new_m, name, m_fn_rec(sub_m, d))\n\u001b[1;32m    230\u001b[0m     \u001b[38;5;28;01mreturn\u001b[39;00m new_m\n\u001b[0;32m--> 232\u001b[0m \u001b[38;5;28;01mreturn\u001b[39;00m m_fn_rec(module, dtype)\n",
      "File \u001b[0;32m~/miniconda3/envs/imaging/lib/python3.9/site-packages/torch/utils/mkldnn.py:229\u001b[0m, in \u001b[0;36mm_fn_rec\u001b[0;34m()\u001b[0m\n\u001b[1;32m    227\u001b[0m new_m \u001b[38;5;241m=\u001b[39m m_fn(m, d)\n\u001b[1;32m    228\u001b[0m \u001b[38;5;28;01mfor\u001b[39;00m name, sub_m \u001b[38;5;129;01min\u001b[39;00m m\u001b[38;5;241m.\u001b[39mnamed_children():\n\u001b[0;32m--> 229\u001b[0m     \u001b[38;5;28msetattr\u001b[39m(new_m, name, m_fn_rec(sub_m, d))\n\u001b[1;32m    230\u001b[0m \u001b[38;5;28;01mreturn\u001b[39;00m new_m\n",
      "File \u001b[0;32m~/miniconda3/envs/imaging/lib/python3.9/site-packages/torch/utils/mkldnn.py:229\u001b[0m, in \u001b[0;36mm_fn_rec\u001b[0;34m()\u001b[0m\n\u001b[1;32m    227\u001b[0m new_m \u001b[38;5;241m=\u001b[39m m_fn(m, d)\n\u001b[1;32m    228\u001b[0m \u001b[38;5;28;01mfor\u001b[39;00m name, sub_m \u001b[38;5;129;01min\u001b[39;00m m\u001b[38;5;241m.\u001b[39mnamed_children():\n\u001b[0;32m--> 229\u001b[0m     \u001b[38;5;28msetattr\u001b[39m(new_m, name, m_fn_rec(sub_m, d))\n\u001b[1;32m    230\u001b[0m \u001b[38;5;28;01mreturn\u001b[39;00m new_m\n",
      "    \u001b[0;31m[... skipping similar frames: m_fn_rec at line 229 (3 times)]\u001b[0m\n",
      "File \u001b[0;32m~/miniconda3/envs/imaging/lib/python3.9/site-packages/torch/utils/mkldnn.py:229\u001b[0m, in \u001b[0;36mm_fn_rec\u001b[0;34m()\u001b[0m\n\u001b[1;32m    227\u001b[0m new_m \u001b[38;5;241m=\u001b[39m m_fn(m, d)\n\u001b[1;32m    228\u001b[0m \u001b[38;5;28;01mfor\u001b[39;00m name, sub_m \u001b[38;5;129;01min\u001b[39;00m m\u001b[38;5;241m.\u001b[39mnamed_children():\n\u001b[0;32m--> 229\u001b[0m     \u001b[38;5;28msetattr\u001b[39m(new_m, name, m_fn_rec(sub_m, d))\n\u001b[1;32m    230\u001b[0m \u001b[38;5;28;01mreturn\u001b[39;00m new_m\n",
      "File \u001b[0;32m~/miniconda3/envs/imaging/lib/python3.9/site-packages/torch/utils/mkldnn.py:227\u001b[0m, in \u001b[0;36mm_fn_rec\u001b[0;34m()\u001b[0m\n\u001b[1;32m    226\u001b[0m \u001b[38;5;28;01mdef\u001b[39;00m \u001b[38;5;21mm_fn_rec\u001b[39m(m, d):\n\u001b[0;32m--> 227\u001b[0m     new_m \u001b[38;5;241m=\u001b[39m m_fn(m, d)\n\u001b[1;32m    228\u001b[0m     \u001b[38;5;28;01mfor\u001b[39;00m name, sub_m \u001b[38;5;129;01min\u001b[39;00m m\u001b[38;5;241m.\u001b[39mnamed_children():\n\u001b[1;32m    229\u001b[0m         \u001b[38;5;28msetattr\u001b[39m(new_m, name, m_fn_rec(sub_m, d))\n",
      "File \u001b[0;32m~/miniconda3/envs/imaging/lib/python3.9/site-packages/torch/utils/mkldnn.py:220\u001b[0m, in \u001b[0;36mm_fn\u001b[0;34m()\u001b[0m\n\u001b[1;32m    216\u001b[0m     \u001b[38;5;28;01mreturn\u001b[39;00m MkldnnConv3d(m, d)\n\u001b[1;32m    217\u001b[0m \u001b[38;5;28;01melif\u001b[39;00m \u001b[38;5;28misinstance\u001b[39m(m, torch\u001b[38;5;241m.\u001b[39mnn\u001b[38;5;241m.\u001b[39mBatchNorm2d) \u001b[38;5;129;01mor\u001b[39;00m \u001b[38;5;28misinstance\u001b[39m(m, torch\u001b[38;5;241m.\u001b[39mnn\u001b[38;5;241m.\u001b[39mBatchNorm3d):\n\u001b[1;32m    218\u001b[0m     \u001b[38;5;66;03m# For batchnorm bf16 path, OneDNN requires weight and bias need fp32 dtype.\u001b[39;00m\n\u001b[1;32m    219\u001b[0m     \u001b[38;5;66;03m# so it doesn't need dtype argument.\u001b[39;00m\n\u001b[0;32m--> 220\u001b[0m     \u001b[38;5;28;01mreturn\u001b[39;00m MkldnnBatchNorm(m)\n\u001b[1;32m    221\u001b[0m \u001b[38;5;28;01melif\u001b[39;00m \u001b[38;5;28misinstance\u001b[39m(m, torch\u001b[38;5;241m.\u001b[39mnn\u001b[38;5;241m.\u001b[39mPReLU):\n\u001b[1;32m    222\u001b[0m     \u001b[38;5;28;01mreturn\u001b[39;00m MkldnnPrelu(m, d)\n",
      "File \u001b[0;32m~/miniconda3/envs/imaging/lib/python3.9/site-packages/torch/jit/_script.py:307\u001b[0m, in \u001b[0;36minit_then_script\u001b[0;34m()\u001b[0m\n\u001b[1;32m    302\u001b[0m     \u001b[38;5;28;01melse\u001b[39;00m:\n\u001b[1;32m    303\u001b[0m         \u001b[38;5;28;01mreturn\u001b[39;00m infer_methods_to_compile(module)\n\u001b[1;32m    305\u001b[0m \u001b[38;5;28mself\u001b[39m\u001b[38;5;241m.\u001b[39m\u001b[38;5;18m__dict__\u001b[39m[\n\u001b[1;32m    306\u001b[0m     \u001b[38;5;124m\"\u001b[39m\u001b[38;5;124m_actual_script_module\u001b[39m\u001b[38;5;124m\"\u001b[39m\n\u001b[0;32m--> 307\u001b[0m ] \u001b[38;5;241m=\u001b[39m torch\u001b[38;5;241m.\u001b[39mjit\u001b[38;5;241m.\u001b[39m_recursive\u001b[38;5;241m.\u001b[39mcreate_script_module(\u001b[38;5;28mself\u001b[39m, make_stubs, share_types\u001b[38;5;241m=\u001b[39m\u001b[38;5;129;01mnot\u001b[39;00m added_methods_in_init)\n\u001b[1;32m    309\u001b[0m \u001b[38;5;66;03m# Delete the Python attributes that now shadow the ScriptModule\u001b[39;00m\n\u001b[1;32m    310\u001b[0m \u001b[38;5;66;03m# ones, so that __getattr__ and __setattr__ will properly find\u001b[39;00m\n\u001b[1;32m    311\u001b[0m \u001b[38;5;66;03m# the scripted versions.\u001b[39;00m\n\u001b[1;32m    312\u001b[0m concrete_type \u001b[38;5;241m=\u001b[39m \u001b[38;5;28mself\u001b[39m\u001b[38;5;241m.\u001b[39m_actual_script_module\u001b[38;5;241m.\u001b[39m_concrete_type\n",
      "File \u001b[0;32m~/miniconda3/envs/imaging/lib/python3.9/site-packages/torch/jit/_recursive.py:476\u001b[0m, in \u001b[0;36mcreate_script_module\u001b[0;34m()\u001b[0m\n\u001b[1;32m    474\u001b[0m \u001b[38;5;28;01mif\u001b[39;00m \u001b[38;5;129;01mnot\u001b[39;00m is_tracing:\n\u001b[1;32m    475\u001b[0m     AttributeTypeIsSupportedChecker()\u001b[38;5;241m.\u001b[39mcheck(nn_module)\n\u001b[0;32m--> 476\u001b[0m \u001b[38;5;28;01mreturn\u001b[39;00m create_script_module_impl(nn_module, concrete_type, stubs_fn)\n",
      "File \u001b[0;32m~/miniconda3/envs/imaging/lib/python3.9/site-packages/torch/jit/_recursive.py:542\u001b[0m, in \u001b[0;36mcreate_script_module_impl\u001b[0;34m()\u001b[0m\n\u001b[1;32m    540\u001b[0m \u001b[38;5;66;03m# Compile methods if necessary\u001b[39;00m\n\u001b[1;32m    541\u001b[0m \u001b[38;5;28;01mif\u001b[39;00m concrete_type \u001b[38;5;129;01mnot\u001b[39;00m \u001b[38;5;129;01min\u001b[39;00m concrete_type_store\u001b[38;5;241m.\u001b[39mmethods_compiled:\n\u001b[0;32m--> 542\u001b[0m     create_methods_and_properties_from_stubs(concrete_type, method_stubs, property_stubs)\n\u001b[1;32m    543\u001b[0m     \u001b[38;5;66;03m# Create hooks after methods to ensure no name collisions between hooks and methods.\u001b[39;00m\n\u001b[1;32m    544\u001b[0m     \u001b[38;5;66;03m# If done before, hooks can overshadow methods that aren't exported.\u001b[39;00m\n\u001b[1;32m    545\u001b[0m     create_hooks_from_stubs(concrete_type, hook_stubs, pre_hook_stubs)\n",
      "File \u001b[0;32m~/miniconda3/envs/imaging/lib/python3.9/site-packages/torch/jit/_recursive.py:393\u001b[0m, in \u001b[0;36mcreate_methods_and_properties_from_stubs\u001b[0;34m()\u001b[0m\n\u001b[1;32m    390\u001b[0m property_defs \u001b[38;5;241m=\u001b[39m [p\u001b[38;5;241m.\u001b[39mdef_ \u001b[38;5;28;01mfor\u001b[39;00m p \u001b[38;5;129;01min\u001b[39;00m property_stubs]\n\u001b[1;32m    391\u001b[0m property_rcbs \u001b[38;5;241m=\u001b[39m [p\u001b[38;5;241m.\u001b[39mresolution_callback \u001b[38;5;28;01mfor\u001b[39;00m p \u001b[38;5;129;01min\u001b[39;00m property_stubs]\n\u001b[0;32m--> 393\u001b[0m concrete_type\u001b[38;5;241m.\u001b[39m_create_methods_and_properties(property_defs, property_rcbs, method_defs, method_rcbs, method_defaults)\n",
      "\u001b[0;31mRuntimeError\u001b[0m: Can't redefine method: __getstate__ on class: __torch__.torch.utils.mkldnn.MkldnnBatchNorm (of Python compilation unit at: 0x55e46d521380)"
     ]
    }
   ],
   "source": [
    "bf.process_parallel_dataset()"
   ]
  },
  {
   "cell_type": "code",
   "execution_count": null,
   "metadata": {},
   "outputs": [],
   "source": [
    "cluster.scale(0)\n",
    "client.shutdown()"
   ]
  }
 ],
 "metadata": {
  "kernelspec": {
   "display_name": "imaging",
   "language": "python",
   "name": "imaging"
  },
  "language_info": {
   "codemirror_mode": {
    "name": "ipython",
    "version": 3
   },
   "file_extension": ".py",
   "mimetype": "text/x-python",
   "name": "python",
   "nbconvert_exporter": "python",
   "pygments_lexer": "ipython3",
   "version": "3.9.16"
  }
 },
 "nbformat": 4,
 "nbformat_minor": 2
}
